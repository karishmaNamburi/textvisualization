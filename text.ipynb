{
 "cells": [
  {
   "cell_type": "code",
   "execution_count": 1,
   "id": "ab475af4-d6f7-4b68-9110-4966435a0db5",
   "metadata": {},
   "outputs": [
    {
     "name": "stdout",
     "output_type": "stream",
     "text": [
      "Writing app.py\n"
     ]
    }
   ],
   "source": [
    "%%writefile app.py\n",
    "import streamlit as st\n",
    "import matplotlib.pyplot as plt\n",
    "from wordcloud import WordCloud\n",
    "from collections import Counter\n",
    "import PyPDF2\n",
    "import docx\n",
    "\n",
    "# -----------------------------\n",
    "# Function to extract text\n",
    "# -----------------------------\n",
    "def extract_text_from_pdf(file):\n",
    "    text = \"\"\n",
    "    reader = PyPDF2.PdfReader(file)\n",
    "    for page in reader.pages:\n",
    "        text += page.extract_text() + \" \"\n",
    "    return text\n",
    "\n",
    "def extract_text_from_docx(file):\n",
    "    doc = docx.Document(file)\n",
    "    return \" \".join([para.text for para in doc.paragraphs])\n",
    "\n",
    "# -----------------------------\n",
    "# Streamlit App\n",
    "# -----------------------------\n",
    "st.title(\"📄 Document Visualizer (Word & PDF)\")\n",
    "\n",
    "uploaded_file = st.file_uploader(\"Upload a Word (.docx) or PDF file\", type=[\"docx\", \"pdf\"])\n",
    "\n",
    "if uploaded_file:\n",
    "    # Extract text\n",
    "    if uploaded_file.type == \"application/pdf\":\n",
    "        text = extract_text_from_pdf(uploaded_file)\n",
    "    else:\n",
    "        text = extract_text_from_docx(uploaded_file)\n",
    "\n",
    "    st.subheader(\"📑 Extracted Text (Preview)\")\n",
    "    st.text_area(\"Document Content\", text[:2000] + (\"...\" if len(text) > 2000 else \"\"), height=200)\n",
    "\n",
    "    if text.strip():\n",
    "        words = text.lower().split()\n",
    "        word_counts = Counter(words)\n",
    "\n",
    "        # -----------------------------\n",
    "        # 1. Word Cloud\n",
    "        # -----------------------------\n",
    "        st.subheader(\"☁️ Word Cloud\")\n",
    "        wordcloud = WordCloud(width=800, height=400, background_color=\"white\").generate(text)\n",
    "        fig, ax = plt.subplots()\n",
    "        ax.imshow(wordcloud, interpolation=\"bilinear\")\n",
    "        ax.axis(\"off\")\n",
    "        st.pyplot(fig)\n",
    "\n",
    "        # -----------------------------\n",
    "        # 2. Bar Chart (Top Words)\n",
    "        # -----------------------------\n",
    "        st.subheader(\"📊 Top 10 Words Frequency\")\n",
    "        top_words = word_counts.most_common(10)\n",
    "        words_, counts_ = zip(*top_words)\n",
    "        fig, ax = plt.subplots()\n",
    "        ax.bar(words_, counts_)\n",
    "        plt.xticks(rotation=45)\n",
    "        st.pyplot(fig)\n",
    "\n",
    "        # -----------------------------\n",
    "        # 3. Line Chart (Word Length Distribution)\n",
    "        # -----------------------------\n",
    "        st.subheader(\"📈 Word Length Distribution\")\n",
    "        word_lengths = [len(w) for w in words if w.isalpha()]\n",
    "        length_counts = Counter(word_lengths)\n",
    "        lengths, counts = zip(*sorted(length_counts.items()))\n",
    "        fig, ax = plt.subplots()\n",
    "        ax.plot(lengths, counts, marker=\"o\")\n",
    "        ax.set_xlabel(\"Word Length\")\n",
    "        ax.set_ylabel(\"Frequency\")\n",
    "        st.pyplot(fig)\n"
   ]
  },
  {
   "cell_type": "code",
   "execution_count": null,
   "id": "28b75553-f6c1-4434-9a0f-da49a69eb23a",
   "metadata": {},
   "outputs": [],
   "source": [
    "!streamlit run app.py"
   ]
  },
  {
   "cell_type": "code",
   "execution_count": null,
   "id": "276dad10-6a97-4157-9b85-f8d100e8eebe",
   "metadata": {},
   "outputs": [],
   "source": [
    "pip install streamlit"
   ]
  },
  {
   "cell_type": "code",
   "execution_count": null,
   "id": "8b1f32c2-7d7d-452a-83a1-b88f260464ff",
   "metadata": {},
   "outputs": [],
   "source": []
  }
 ],
 "metadata": {
  "kernelspec": {
   "display_name": "Python [conda env:base] *",
   "language": "python",
   "name": "conda-base-py"
  },
  "language_info": {
   "codemirror_mode": {
    "name": "ipython",
    "version": 3
   },
   "file_extension": ".py",
   "mimetype": "text/x-python",
   "name": "python",
   "nbconvert_exporter": "python",
   "pygments_lexer": "ipython3",
   "version": "3.12.7"
  }
 },
 "nbformat": 4,
 "nbformat_minor": 5
}
